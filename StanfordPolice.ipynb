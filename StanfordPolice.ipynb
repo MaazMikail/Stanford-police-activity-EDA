{
 "cells": [
  {
   "cell_type": "markdown",
   "metadata": {},
   "source": [
    "# Reading Data and Importing dependencies\n",
    "\n",
    "### Data from Stanford open police project. We use data from Rhode island. \n",
    "### https://openpolicing.stanford.edu/"
   ]
  },
  {
   "cell_type": "code",
   "execution_count": 90,
   "metadata": {
    "collapsed": true
   },
   "outputs": [],
   "source": [
    "#Importing the data\n",
    "\n",
    "\n",
    "import pandas as pd\n",
    "import matplotlib.pyplot as plt\n",
    "import seaborn as sns\n",
    "%matplotlib inline\n",
    "\n",
    "\n",
    "ri = pd.read_csv('police.csv')"
   ]
  },
  {
   "cell_type": "markdown",
   "metadata": {},
   "source": [
    "## Exploring the data"
   ]
  },
  {
   "cell_type": "code",
   "execution_count": 91,
   "metadata": {},
   "outputs": [
    {
     "data": {
      "text/html": [
       "<div>\n",
       "<style>\n",
       "    .dataframe thead tr:only-child th {\n",
       "        text-align: right;\n",
       "    }\n",
       "\n",
       "    .dataframe thead th {\n",
       "        text-align: left;\n",
       "    }\n",
       "\n",
       "    .dataframe tbody tr th {\n",
       "        vertical-align: top;\n",
       "    }\n",
       "</style>\n",
       "<table border=\"1\" class=\"dataframe\">\n",
       "  <thead>\n",
       "    <tr style=\"text-align: right;\">\n",
       "      <th></th>\n",
       "      <th>stop_date</th>\n",
       "      <th>stop_time</th>\n",
       "      <th>county_name</th>\n",
       "      <th>driver_gender</th>\n",
       "      <th>driver_age_raw</th>\n",
       "      <th>driver_age</th>\n",
       "      <th>driver_race</th>\n",
       "      <th>violation_raw</th>\n",
       "      <th>violation</th>\n",
       "      <th>search_conducted</th>\n",
       "      <th>search_type</th>\n",
       "      <th>stop_outcome</th>\n",
       "      <th>is_arrested</th>\n",
       "      <th>stop_duration</th>\n",
       "      <th>drugs_related_stop</th>\n",
       "    </tr>\n",
       "  </thead>\n",
       "  <tbody>\n",
       "    <tr>\n",
       "      <th>0</th>\n",
       "      <td>2005-01-02</td>\n",
       "      <td>01:55</td>\n",
       "      <td>NaN</td>\n",
       "      <td>M</td>\n",
       "      <td>1985.0</td>\n",
       "      <td>20.0</td>\n",
       "      <td>White</td>\n",
       "      <td>Speeding</td>\n",
       "      <td>Speeding</td>\n",
       "      <td>False</td>\n",
       "      <td>NaN</td>\n",
       "      <td>Citation</td>\n",
       "      <td>False</td>\n",
       "      <td>0-15 Min</td>\n",
       "      <td>False</td>\n",
       "    </tr>\n",
       "    <tr>\n",
       "      <th>1</th>\n",
       "      <td>2005-01-18</td>\n",
       "      <td>08:15</td>\n",
       "      <td>NaN</td>\n",
       "      <td>M</td>\n",
       "      <td>1965.0</td>\n",
       "      <td>40.0</td>\n",
       "      <td>White</td>\n",
       "      <td>Speeding</td>\n",
       "      <td>Speeding</td>\n",
       "      <td>False</td>\n",
       "      <td>NaN</td>\n",
       "      <td>Citation</td>\n",
       "      <td>False</td>\n",
       "      <td>0-15 Min</td>\n",
       "      <td>False</td>\n",
       "    </tr>\n",
       "    <tr>\n",
       "      <th>2</th>\n",
       "      <td>2005-01-23</td>\n",
       "      <td>23:15</td>\n",
       "      <td>NaN</td>\n",
       "      <td>M</td>\n",
       "      <td>1972.0</td>\n",
       "      <td>33.0</td>\n",
       "      <td>White</td>\n",
       "      <td>Speeding</td>\n",
       "      <td>Speeding</td>\n",
       "      <td>False</td>\n",
       "      <td>NaN</td>\n",
       "      <td>Citation</td>\n",
       "      <td>False</td>\n",
       "      <td>0-15 Min</td>\n",
       "      <td>False</td>\n",
       "    </tr>\n",
       "    <tr>\n",
       "      <th>3</th>\n",
       "      <td>2005-02-20</td>\n",
       "      <td>17:15</td>\n",
       "      <td>NaN</td>\n",
       "      <td>M</td>\n",
       "      <td>1986.0</td>\n",
       "      <td>19.0</td>\n",
       "      <td>White</td>\n",
       "      <td>Call for Service</td>\n",
       "      <td>Other</td>\n",
       "      <td>False</td>\n",
       "      <td>NaN</td>\n",
       "      <td>Arrest Driver</td>\n",
       "      <td>True</td>\n",
       "      <td>16-30 Min</td>\n",
       "      <td>False</td>\n",
       "    </tr>\n",
       "    <tr>\n",
       "      <th>4</th>\n",
       "      <td>2005-03-14</td>\n",
       "      <td>10:00</td>\n",
       "      <td>NaN</td>\n",
       "      <td>F</td>\n",
       "      <td>1984.0</td>\n",
       "      <td>21.0</td>\n",
       "      <td>White</td>\n",
       "      <td>Speeding</td>\n",
       "      <td>Speeding</td>\n",
       "      <td>False</td>\n",
       "      <td>NaN</td>\n",
       "      <td>Citation</td>\n",
       "      <td>False</td>\n",
       "      <td>0-15 Min</td>\n",
       "      <td>False</td>\n",
       "    </tr>\n",
       "  </tbody>\n",
       "</table>\n",
       "</div>"
      ],
      "text/plain": [
       "    stop_date stop_time  county_name driver_gender  driver_age_raw  \\\n",
       "0  2005-01-02     01:55          NaN             M          1985.0   \n",
       "1  2005-01-18     08:15          NaN             M          1965.0   \n",
       "2  2005-01-23     23:15          NaN             M          1972.0   \n",
       "3  2005-02-20     17:15          NaN             M          1986.0   \n",
       "4  2005-03-14     10:00          NaN             F          1984.0   \n",
       "\n",
       "   driver_age driver_race     violation_raw violation  search_conducted  \\\n",
       "0        20.0       White          Speeding  Speeding             False   \n",
       "1        40.0       White          Speeding  Speeding             False   \n",
       "2        33.0       White          Speeding  Speeding             False   \n",
       "3        19.0       White  Call for Service     Other             False   \n",
       "4        21.0       White          Speeding  Speeding             False   \n",
       "\n",
       "  search_type   stop_outcome is_arrested stop_duration  drugs_related_stop  \n",
       "0         NaN       Citation       False      0-15 Min               False  \n",
       "1         NaN       Citation       False      0-15 Min               False  \n",
       "2         NaN       Citation       False      0-15 Min               False  \n",
       "3         NaN  Arrest Driver        True     16-30 Min               False  \n",
       "4         NaN       Citation       False      0-15 Min               False  "
      ]
     },
     "execution_count": 91,
     "metadata": {},
     "output_type": "execute_result"
    }
   ],
   "source": [
    "# Lets have a peak at the dataframe \n",
    "# Each row of this data represent a traffic violation.\n",
    "ri.head()"
   ]
  },
  {
   "cell_type": "code",
   "execution_count": 92,
   "metadata": {},
   "outputs": [
    {
     "data": {
      "text/plain": [
       "(91741, 15)"
      ]
     },
     "execution_count": 92,
     "metadata": {},
     "output_type": "execute_result"
    }
   ],
   "source": [
    "# Rows and columns available to us\n",
    "ri.shape"
   ]
  },
  {
   "cell_type": "code",
   "execution_count": 93,
   "metadata": {},
   "outputs": [
    {
     "data": {
      "text/plain": [
       "stop_date              object\n",
       "stop_time              object\n",
       "county_name           float64\n",
       "driver_gender          object\n",
       "driver_age_raw        float64\n",
       "driver_age            float64\n",
       "driver_race            object\n",
       "violation_raw          object\n",
       "violation              object\n",
       "search_conducted         bool\n",
       "search_type            object\n",
       "stop_outcome           object\n",
       "is_arrested            object\n",
       "stop_duration          object\n",
       "drugs_related_stop       bool\n",
       "dtype: object"
      ]
     },
     "execution_count": 93,
     "metadata": {},
     "output_type": "execute_result"
    }
   ],
   "source": [
    "# Data types for all our columns\n",
    "#  Object represent strings and bool represents boolean\n",
    "ri.dtypes"
   ]
  },
  {
   "cell_type": "markdown",
   "metadata": {},
   "source": [
    "### Missing values "
   ]
  },
  {
   "cell_type": "code",
   "execution_count": 94,
   "metadata": {},
   "outputs": [
    {
     "data": {
      "text/plain": [
       "stop_date                 0\n",
       "stop_time                 0\n",
       "county_name           91741\n",
       "driver_gender          5335\n",
       "driver_age_raw         5327\n",
       "driver_age             5621\n",
       "driver_race            5333\n",
       "violation_raw          5333\n",
       "violation              5333\n",
       "search_conducted          0\n",
       "search_type           88545\n",
       "stop_outcome           5333\n",
       "is_arrested            5333\n",
       "stop_duration          5333\n",
       "drugs_related_stop        0\n",
       "dtype: int64"
      ]
     },
     "execution_count": 94,
     "metadata": {},
     "output_type": "execute_result"
    }
   ],
   "source": [
    "# Checking Missing values \n",
    "# isnull() returns a dataframe with True where a value is Missing.\n",
    "# We sum() it accross each column to find total values missing in each column.\n",
    "# Since True is 1 and False 0, we can add boolean values\n",
    "\n",
    "ri.isnull().sum()"
   ]
  },
  {
   "cell_type": "code",
   "execution_count": 95,
   "metadata": {},
   "outputs": [
    {
     "data": {
      "text/html": [
       "<div>\n",
       "<style>\n",
       "    .dataframe thead tr:only-child th {\n",
       "        text-align: right;\n",
       "    }\n",
       "\n",
       "    .dataframe thead th {\n",
       "        text-align: left;\n",
       "    }\n",
       "\n",
       "    .dataframe tbody tr th {\n",
       "        vertical-align: top;\n",
       "    }\n",
       "</style>\n",
       "<table border=\"1\" class=\"dataframe\">\n",
       "  <thead>\n",
       "    <tr style=\"text-align: right;\">\n",
       "      <th></th>\n",
       "      <th>Total</th>\n",
       "      <th>Percent</th>\n",
       "    </tr>\n",
       "  </thead>\n",
       "  <tbody>\n",
       "    <tr>\n",
       "      <th>county_name</th>\n",
       "      <td>91741</td>\n",
       "      <td>100.000000</td>\n",
       "    </tr>\n",
       "    <tr>\n",
       "      <th>search_type</th>\n",
       "      <td>88545</td>\n",
       "      <td>96.516280</td>\n",
       "    </tr>\n",
       "    <tr>\n",
       "      <th>driver_age</th>\n",
       "      <td>5621</td>\n",
       "      <td>6.127032</td>\n",
       "    </tr>\n",
       "    <tr>\n",
       "      <th>driver_gender</th>\n",
       "      <td>5335</td>\n",
       "      <td>5.815284</td>\n",
       "    </tr>\n",
       "    <tr>\n",
       "      <th>stop_duration</th>\n",
       "      <td>5333</td>\n",
       "      <td>5.813104</td>\n",
       "    </tr>\n",
       "    <tr>\n",
       "      <th>is_arrested</th>\n",
       "      <td>5333</td>\n",
       "      <td>5.813104</td>\n",
       "    </tr>\n",
       "    <tr>\n",
       "      <th>stop_outcome</th>\n",
       "      <td>5333</td>\n",
       "      <td>5.813104</td>\n",
       "    </tr>\n",
       "    <tr>\n",
       "      <th>violation</th>\n",
       "      <td>5333</td>\n",
       "      <td>5.813104</td>\n",
       "    </tr>\n",
       "    <tr>\n",
       "      <th>violation_raw</th>\n",
       "      <td>5333</td>\n",
       "      <td>5.813104</td>\n",
       "    </tr>\n",
       "    <tr>\n",
       "      <th>driver_race</th>\n",
       "      <td>5333</td>\n",
       "      <td>5.813104</td>\n",
       "    </tr>\n",
       "  </tbody>\n",
       "</table>\n",
       "</div>"
      ],
      "text/plain": [
       "               Total     Percent\n",
       "county_name    91741  100.000000\n",
       "search_type    88545   96.516280\n",
       "driver_age      5621    6.127032\n",
       "driver_gender   5335    5.815284\n",
       "stop_duration   5333    5.813104\n",
       "is_arrested     5333    5.813104\n",
       "stop_outcome    5333    5.813104\n",
       "violation       5333    5.813104\n",
       "violation_raw   5333    5.813104\n",
       "driver_race     5333    5.813104"
      ]
     },
     "execution_count": 95,
     "metadata": {},
     "output_type": "execute_result"
    }
   ],
   "source": [
    "def missing_percentage(df):\n",
    "    \n",
    "    \"\"\"\n",
    "    returns a new dataframe showing the percentage of missing values\n",
    "    for each column in the original data provided\n",
    "   \n",
    "    \"\"\"\n",
    "    \n",
    "    \n",
    "    total = df.isnull().sum().sort_values(ascending = False)\n",
    "\n",
    "    percent = (df.isnull().sum()/df.isnull().count()*100).sort_values(ascending = False)\n",
    "\n",
    "    missing_data  = pd.concat([total, percent], axis=1, keys=['Total', 'Percent'])\n",
    "\n",
    "    return missing_data\n",
    "\n",
    "\n",
    "\n",
    "#Exploring percentage of missing values \n",
    "\n",
    "missing_df = missing_percentage(ri)\n",
    "missing_df.head(10)"
   ]
  },
  {
   "cell_type": "code",
   "execution_count": 96,
   "metadata": {
    "collapsed": true
   },
   "outputs": [],
   "source": [
    "# Removing columns with all missing values\n",
    "# we use the dropna() method. Specifying:\n",
    "# 1. axis to use. 1 for column and 0 for rows.\n",
    "# 2. condition to check. how = 'all' states if all values missing: drop. \n",
    "# 3. inplace = True makes it change the original dataframe\n",
    "\n",
    "ri.dropna(axis = 1, how = 'all', inplace=True)"
   ]
  },
  {
   "cell_type": "code",
   "execution_count": 97,
   "metadata": {},
   "outputs": [
    {
     "data": {
      "text/plain": [
       "(91741, 14)"
      ]
     },
     "execution_count": 97,
     "metadata": {},
     "output_type": "execute_result"
    }
   ],
   "source": [
    "#one less column now\n",
    "ri.shape"
   ]
  },
  {
   "cell_type": "markdown",
   "metadata": {},
   "source": [
    "## Do men or women speed more often?"
   ]
  },
  {
   "cell_type": "code",
   "execution_count": 98,
   "metadata": {},
   "outputs": [
    {
     "name": "stdout",
     "output_type": "stream",
     "text": [
      "M    62895\n",
      "F    23511\n",
      "Name: driver_gender, dtype: int64\n",
      "=========================\n",
      "M    0.727901\n",
      "F    0.272099\n",
      "Name: driver_gender, dtype: float64\n",
      "=========================\n"
     ]
    },
    {
     "data": {
      "text/plain": [
       "<matplotlib.axes._subplots.AxesSubplot at 0x7f83b4919e10>"
      ]
     },
     "execution_count": 98,
     "metadata": {},
     "output_type": "execute_result"
    },
    {
     "data": {
      "image/png": "[encoded data removed]",
      "text/plain": [
       "<matplotlib.figure.Figure at 0x7f83b491dc50>"
      ]
     },
     "metadata": {},
     "output_type": "display_data"
    }
   ],
   "source": [
    "# We have a gender column in our dataset. Lets check the count of males and females.\n",
    "\n",
    "print(ri['driver_gender'].value_counts())\n",
    "\n",
    "print(\"=\"*25)\n",
    "\n",
    "print(ri['driver_gender'].value_counts(normalize=True))\n",
    "\n",
    "\n",
    "#There are 72% male driver in our dataset compared to 27% females.\n",
    "#Lets see how they appear on a count plot.\n",
    "\n",
    "print(\"=\"*25)\n",
    "\n",
    "sns.countplot(ri['driver_gender'])"
   ]
  },
  {
   "cell_type": "code",
   "execution_count": 99,
   "metadata": {},
   "outputs": [
    {
     "name": "stdout",
     "output_type": "stream",
     "text": [
      "M    32979\n",
      "F    15482\n",
      "Name: driver_gender, dtype: int64\n",
      "==============================\n",
      "Percentage of overspeeding men out of all men: 0.5243501073217267\n",
      "Percentage of overspeeding women out of all women: 0.6585002764663349\n"
     ]
    }
   ],
   "source": [
    "#Now lets figure out if men or women are caught more overspeeding.\n",
    "\n",
    "print(ri[ri['violation'] == 'Speeding']['driver_gender'].value_counts())\n",
    "\n",
    "# Looks like its the men who are caught overspeeding the most. \n",
    "# This can still be ambigous since our data has more men than women. \n",
    "# Lets see the distribution of how many men are caught overspeeding\n",
    "\n",
    "print('='*30)\n",
    "\n",
    "speeding_men = ri[(ri['violation']=='Speeding')]['driver_gender'].value_counts()['M']\n",
    "total_men = ri['driver_gender'].value_counts()['M']\n",
    "\n",
    "\n",
    "print('Percentage of overspeeding men out of all men: {}'.format(speeding_men/total_men))\n",
    "\n",
    "\n",
    "#lets do the same for women \n",
    "\n",
    "speeding_women = ri[(ri['violation']=='Speeding')]['driver_gender'].value_counts()['F']\n",
    "total_women = ri['driver_gender'].value_counts()['F']\n",
    "\n",
    "print('Percentage of overspeeding women out of all women: {}'.format(speeding_women/total_women))\n",
    "\n",
    "\n",
    "# There are a number of ways to interpret it. \n",
    "# Of all men who are caught, 52% are caught overspeeding.\n",
    "# Of all women who are caught, 65% are caught overspeeding.\n",
    "\n"
   ]
  },
  {
   "cell_type": "code",
   "execution_count": 100,
   "metadata": {},
   "outputs": [
    {
     "data": {
      "text/plain": [
       "driver_gender\n",
       "F    0.65850\n",
       "M    0.52435\n",
       "Name: violation, dtype: float64"
      ]
     },
     "execution_count": 100,
     "metadata": {},
     "output_type": "execute_result"
    }
   ],
   "source": [
    "# We can shorten the code above to use a group by. \n",
    "\n",
    "ri.groupby('driver_gender')['violation'].value_counts(normalize=True).loc[:, 'Speeding']"
   ]
  },
  {
   "cell_type": "markdown",
   "metadata": {},
   "source": [
    "## Does gender affect who gets searched during a stop?\n",
    "\n",
    "### Columns to use: driver_gender and search_conducted"
   ]
  },
  {
   "cell_type": "code",
   "execution_count": 101,
   "metadata": {},
   "outputs": [
    {
     "name": "stdout",
     "output_type": "stream",
     "text": [
      "  driver_gender  search_conducted\n",
      "0             M             False\n",
      "1             M             False\n",
      "2             M             False\n",
      "3             M             False\n",
      "4             F             False\n",
      "=========================\n",
      "Out of all 100 people stopped, 3 and a half of them were searched.\n",
      "False    0.965163\n",
      "True     0.034837\n",
      "Name: search_conducted, dtype: float64\n",
      "=========================\n",
      " % of people searched out of 100 : 3.483720%\n"
     ]
    }
   ],
   "source": [
    "# Lets check out search conducted: \n",
    "# It is a boolean variable.\n",
    "\n",
    "print(ri[['driver_gender', 'search_conducted']].head())\n",
    "\n",
    "\n",
    "print(\"=\" * 25)\n",
    "\n",
    "\n",
    "#distribution of search conducted\n",
    "print(\"Out of all 100 people stopped, 3 and a half of them were searched.\")\n",
    "print(ri['search_conducted'].value_counts(normalize = True))\n",
    "\n",
    "print(\"=\" * 25)\n",
    "\n",
    "#Another trick to get the percentage of people searched is mean.\n",
    "#Mean of boolean value will give the percentage of 1's appeared.\n",
    "\n",
    "print(\" % of people searched out of 100 : {:2f}%\".format(ri['search_conducted'].mean() * 100))\n"
   ]
  },
  {
   "cell_type": "code",
   "execution_count": 102,
   "metadata": {},
   "outputs": [
    {
     "name": "stdout",
     "output_type": "stream",
     "text": [
      "M    0.852628\n",
      "F    0.147372\n",
      "Name: driver_gender, dtype: float64\n",
      "==============================\n",
      "driver_gender\n",
      "F    0.020033\n",
      "M    0.043326\n",
      "Name: search_conducted, dtype: float64\n"
     ]
    }
   ],
   "source": [
    "# Lets get some numbers. \n",
    "\n",
    "print(ri[ri['search_conducted'] == True]['driver_gender'].value_counts(normalize = True))\n",
    "\n",
    "# Of all the searches conducted, 85% of those drivers were male.\n",
    "# This is a similar question to the previous one and has multiple answers.\n",
    "\n",
    "#Lets check the other side too.\n",
    "\n",
    "print('='*30)\n",
    "\n",
    "print(ri.groupby('driver_gender')['search_conducted'].mean())\n",
    "\n",
    "# Females are searched at a 2% rate whereas males are searched twice the rate \n"
   ]
  },
  {
   "cell_type": "code",
   "execution_count": 103,
   "metadata": {},
   "outputs": [
    {
     "data": {
      "text/plain": [
       "violation            driver_gender\n",
       "Equipment            F                0.042622\n",
       "                     M                0.070081\n",
       "Moving violation     F                0.036205\n",
       "                     M                0.059831\n",
       "Other                F                0.056522\n",
       "                     M                0.047146\n",
       "Registration/plates  F                0.066140\n",
       "                     M                0.110376\n",
       "Seat belt            F                0.012598\n",
       "                     M                0.037980\n",
       "Speeding             F                0.008720\n",
       "                     M                0.024925\n",
       "Name: search_conducted, dtype: float64"
      ]
     },
     "execution_count": 103,
     "metadata": {},
     "output_type": "execute_result"
    }
   ],
   "source": [
    "# Another interesting aspect to answer the question. \n",
    "# Not every violation leads to a search. They wont search a guy if he is caught without a seatbelt.\n",
    "\n",
    "ri.groupby(['violation', 'driver_gender'])['search_conducted'].mean()\n",
    "\n",
    "#the violations that gets searched the most is Registraion/plates followed by Equipment."
   ]
  },
  {
   "cell_type": "code",
   "execution_count": 104,
   "metadata": {},
   "outputs": [
    {
     "data": {
      "text/plain": [
       "<matplotlib.axes._subplots.AxesSubplot at 0x7f83b4931cf8>"
      ]
     },
     "execution_count": 104,
     "metadata": {},
     "output_type": "execute_result"
    },
    {
     "data": {
      "image/png": "[encoded data removed]",
      "text/plain": [
       "<matplotlib.figure.Figure at 0x7f83b48f1cf8>"
      ]
     },
     "metadata": {},
     "output_type": "display_data"
    }
   ],
   "source": [
    "\n",
    "# driver gender and search conducted appear together.\n",
    "sns.countplot(ri['search_conducted'], hue = ri['driver_gender'])\n",
    "\n",
    "\n",
    "# Umm, looking at the True part, we can conclude that Males get searched more compared to women.\n"
   ]
  },
  {
   "cell_type": "markdown",
   "metadata": {},
   "source": [
    "### Conclusion"
   ]
  },
  {
   "cell_type": "markdown",
   "metadata": {},
   "source": [
    "There is some relation between getting searched and driver gender. You do get searched more if you are a male. \n",
    "But getting searched is also related to what type of violations occur. "
   ]
  },
  {
   "cell_type": "markdown",
   "metadata": {},
   "source": [
    "## Why is search_type missing so often? "
   ]
  },
  {
   "cell_type": "markdown",
   "metadata": {},
   "source": [
    "#### A very simple answer: Search was not conducted for 96.516% of the total violations hence no values recorded."
   ]
  },
  {
   "cell_type": "code",
   "execution_count": 105,
   "metadata": {},
   "outputs": [
    {
     "name": "stdout",
     "output_type": "stream",
     "text": [
      "96.516% values missing for search_type\n",
      "96.516% times search was not conducted\n"
     ]
    }
   ],
   "source": [
    "# How many missing values for search_type? - 88545\n",
    "\n",
    "print(\"{:.3f}% values missing for search_type\".format((ri['search_type'].isnull().sum()/ri.shape[0])*100))\n",
    "print(\"{:.3f}% times search was not conducted\".format((ri['search_conducted'].value_counts(normalize = True)[0])*100))"
   ]
  },
  {
   "cell_type": "markdown",
   "metadata": {
    "collapsed": true
   },
   "source": [
    "## During a search, how often is a driver frisked? "
   ]
  },
  {
   "cell_type": "markdown",
   "metadata": {},
   "source": [
    "##### A frisk would indicate searching the outer clothing of a person."
   ]
  },
  {
   "cell_type": "code",
   "execution_count": 106,
   "metadata": {},
   "outputs": [
    {
     "data": {
      "text/plain": [
       "Incident to Arrest                                          1219\n",
       "Probable Cause                                               891\n",
       "Inventory                                                    220\n",
       "Reasonable Suspicion                                         197\n",
       "Protective Frisk                                             161\n",
       "Incident to Arrest,Inventory                                 129\n",
       "Incident to Arrest,Probable Cause                            106\n",
       "Probable Cause,Reasonable Suspicion                           75\n",
       "Incident to Arrest,Inventory,Probable Cause                   34\n",
       "Incident to Arrest,Protective Frisk                           33\n",
       "Probable Cause,Protective Frisk                               33\n",
       "Inventory,Probable Cause                                      22\n",
       "Incident to Arrest,Reasonable Suspicion                       13\n",
       "Protective Frisk,Reasonable Suspicion                         11\n",
       "Incident to Arrest,Inventory,Protective Frisk                 11\n",
       "Inventory,Protective Frisk                                    11\n",
       "Incident to Arrest,Probable Cause,Protective Frisk            10\n",
       "Incident to Arrest,Probable Cause,Reasonable Suspicion         6\n",
       "Inventory,Reasonable Suspicion                                 4\n",
       "Incident to Arrest,Inventory,Reasonable Suspicion              4\n",
       "Inventory,Probable Cause,Protective Frisk                      2\n",
       "Inventory,Probable Cause,Reasonable Suspicion                  2\n",
       "Probable Cause,Protective Frisk,Reasonable Suspicion           1\n",
       "Incident to Arrest,Protective Frisk,Reasonable Suspicion       1\n",
       "Name: search_type, dtype: int64"
      ]
     },
     "execution_count": 106,
     "metadata": {},
     "output_type": "execute_result"
    }
   ],
   "source": [
    "# Lets explore the type of searches that are carried out during a search.\n",
    "\n",
    "ri[ri['search_conducted'] == True]['search_type'].value_counts()"
   ]
  },
  {
   "cell_type": "code",
   "execution_count": 107,
   "metadata": {},
   "outputs": [
    {
     "data": {
      "text/plain": [
       "False    0.914268\n",
       "True     0.085732\n",
       "Name: search_type, dtype: float64"
      ]
     },
     "execution_count": 107,
     "metadata": {},
     "output_type": "execute_result"
    }
   ],
   "source": [
    "# Search types are at times a combination of various types like Incident to arrest combined with a frisk.\n",
    "\n",
    "#One way would be to count each time a person is frisked. Regardless of what other combination of search\n",
    "\n",
    "ri['search_type'].str.contains('Frisk').value_counts(normalize = True)\n",
    "\n",
    "# roughly 8.5% of the people who were searched, were frisked. \n"
   ]
  },
  {
   "cell_type": "markdown",
   "metadata": {},
   "source": [
    "### Which year had the least number of traffic stop?"
   ]
  },
  {
   "cell_type": "code",
   "execution_count": 108,
   "metadata": {},
   "outputs": [
    {
     "data": {
      "text/plain": [
       "2012    10970\n",
       "2006    10639\n",
       "2007     9476\n",
       "2014     9228\n",
       "2008     8752\n",
       "2015     8599\n",
       "2011     8126\n",
       "2013     7924\n",
       "2009     7908\n",
       "2010     7561\n",
       "2005     2558\n",
       "Name: year, dtype: int64"
      ]
     },
     "execution_count": 108,
     "metadata": {},
     "output_type": "execute_result"
    }
   ],
   "source": [
    "# Lets create a new feature year\n",
    "year=[i[:4] for i in ri['stop_date']]\n",
    "    \n",
    "ri['year'] = year \n",
    "ri['year'].value_counts()"
   ]
  },
  {
   "cell_type": "code",
   "execution_count": 109,
   "metadata": {},
   "outputs": [
    {
     "data": {
      "text/plain": [
       "2012    10970\n",
       "2006    10639\n",
       "2007     9476\n",
       "2014     9228\n",
       "2008     8752\n",
       "2015     8599\n",
       "2011     8126\n",
       "2013     7924\n",
       "2009     7908\n",
       "2010     7561\n",
       "2005     2558\n",
       "Name: stop_date, dtype: int64"
      ]
     },
     "execution_count": 109,
     "metadata": {},
     "output_type": "execute_result"
    }
   ],
   "source": [
    "# Another way to do the same: \n",
    "\n",
    "ri['stop_date'].str.slice(0,4).value_counts()\n",
    "\n",
    "\n",
    "# It looks like the year 2005 had the least amount of traffic violations. \n",
    "# I wonder why this happend. Maybe we might stumble upon the answer while exploring the data further."
   ]
  },
  {
   "cell_type": "markdown",
   "metadata": {
    "collapsed": true
   },
   "source": [
    "### How does drug activity change by time of day?\n",
    "\n",
    "#### Using columns : drugs_related _stops"
   ]
  },
  {
   "cell_type": "code",
   "execution_count": 110,
   "metadata": {},
   "outputs": [
    {
     "data": {
      "text/plain": [
       "0    False\n",
       "1    False\n",
       "2    False\n",
       "3    False\n",
       "4    False\n",
       "Name: drugs_related_stop, dtype: bool"
      ]
     },
     "execution_count": 110,
     "metadata": {},
     "output_type": "execute_result"
    }
   ],
   "source": [
    "#Drugs related stops is a boolean indicating if the violation was related to drugs.\n",
    "\n",
    "ri['drugs_related_stop'].head()"
   ]
  },
  {
   "cell_type": "code",
   "execution_count": 111,
   "metadata": {},
   "outputs": [
    {
     "data": {
      "text/plain": [
       "<matplotlib.axes._subplots.AxesSubplot at 0x7f83b3144eb8>"
      ]
     },
     "execution_count": 111,
     "metadata": {},
     "output_type": "execute_result"
    },
    {
     "data": {
      "image/png": "[encoded data removed]",
      "text/plain": [
       "<matplotlib.figure.Figure at 0x7f83b31449b0>"
      ]
     },
     "metadata": {},
     "output_type": "display_data"
    }
   ],
   "source": [
    "#We have only a very few drugs related stop.\n",
    "\n",
    "sns.countplot(ri['drugs_related_stop'])"
   ]
  },
  {
   "cell_type": "code",
   "execution_count": 112,
   "metadata": {},
   "outputs": [
    {
     "name": "stdout",
     "output_type": "stream",
     "text": [
      "0     1\n",
      "1     8\n",
      "2    23\n",
      "3    17\n",
      "4    10\n",
      "Name: time_of_day, dtype: int64\n"
     ]
    }
   ],
   "source": [
    "# Made a new column indicating the hour of day the violation occured. \n",
    "# Note: hour of day is 24hr format.\n",
    "\n",
    "ri['time_of_day'] = ri['stop_time'].str.slice(0,2).astype(int)\n",
    "print(ri['time_of_day'].head())"
   ]
  },
  {
   "cell_type": "code",
   "execution_count": 113,
   "metadata": {},
   "outputs": [
    {
     "data": {
      "text/plain": [
       "<matplotlib.axes._subplots.AxesSubplot at 0x7f83b3134cc0>"
      ]
     },
     "execution_count": 113,
     "metadata": {},
     "output_type": "execute_result"
    },
    {
     "data": {
      "image/png": "[encoded data removed]",
      "text/plain": [
       "<matplotlib.figure.Figure at 0x7f83b4236f28>"
      ]
     },
     "metadata": {},
     "output_type": "display_data"
    }
   ],
   "source": [
    "#Distribution of time of day..\n",
    "#Looks like the number of stops go up from 7 to 11 (people commuting to there offices)\n",
    "#the two tail peaks indicate 11am and midnight. \n",
    "\n",
    "sns.countplot(ri['time_of_day'])"
   ]
  },
  {
   "cell_type": "code",
   "execution_count": 114,
   "metadata": {},
   "outputs": [
    {
     "name": "stdout",
     "output_type": "stream",
     "text": [
      "day      0.857566\n",
      "night    0.142434\n",
      "Name: day_or_night, dtype: float64\n"
     ]
    },
    {
     "data": {
      "text/plain": [
       "<matplotlib.axes._subplots.AxesSubplot at 0x7f83b41ae828>"
      ]
     },
     "execution_count": 114,
     "metadata": {},
     "output_type": "execute_result"
    },
    {
     "data": {
      "image/png": "[encoded data removed]",
      "text/plain": [
       "<matplotlib.figure.Figure at 0x7f83b31342e8>"
      ]
     },
     "metadata": {},
     "output_type": "display_data"
    }
   ],
   "source": [
    "# At what time do most stops occur?\n",
    "# Creating a new feature of Day or Night.\n",
    "# Note : i took night from 6pm to midnight.\n",
    "\n",
    "day_night = []\n",
    "\n",
    "for i in ri['time_of_day']:\n",
    "    if i in range(18, 23) or 0:\n",
    "        day_night.append('night')\n",
    "    else:\n",
    "        day_night.append('day')\n",
    "\n",
    "ri['day_or_night'] = day_night\n",
    "\n",
    "\n",
    "#Most stops occur during the day.\n",
    "\n",
    "print(ri['day_or_night'].value_counts(normalize = True))\n",
    "sns.countplot(ri['day_or_night'])\n"
   ]
  },
  {
   "cell_type": "code",
   "execution_count": 115,
   "metadata": {},
   "outputs": [
    {
     "data": {
      "text/plain": [
       "<matplotlib.axes._subplots.AxesSubplot at 0x7f83b335a3c8>"
      ]
     },
     "execution_count": 115,
     "metadata": {},
     "output_type": "execute_result"
    },
    {
     "data": {
      "image/png": "[encoded data removed]",
      "text/plain": [
       "<matplotlib.figure.Figure at 0x7f83b41aa588>"
      ]
     },
     "metadata": {},
     "output_type": "display_data"
    }
   ],
   "source": [
    "# Another plot for when do most stops occur? \n",
    "# Yep. Day time attracts the most stops.\n",
    "\n",
    "ri['time_of_day'].value_counts().sort_index().plot()\n"
   ]
  },
  {
   "cell_type": "markdown",
   "metadata": {},
   "source": [
    "##### Lets explore Drug related stops and its relation with time of day."
   ]
  },
  {
   "cell_type": "code",
   "execution_count": 116,
   "metadata": {},
   "outputs": [
    {
     "data": {
      "text/plain": [
       "<matplotlib.axes._subplots.AxesSubplot at 0x7f83b336ffd0>"
      ]
     },
     "execution_count": 116,
     "metadata": {},
     "output_type": "execute_result"
    },
    {
     "data": {
      "image/png": "[encoded data removed]",
      "text/plain": [
       "<matplotlib.figure.Figure at 0x7f83b337a5f8>"
      ]
     },
     "metadata": {},
     "output_type": "display_data"
    }
   ],
   "source": [
    "# Plotting time of day with Mean drugs related stop. \n",
    "# Interesting. \n",
    "# Mean Drugs related stops occur mostly during the night time.\n",
    "# Mean Drugs related stops go up at around 10pm and reach peak at midnight. They go back down at start of day.\n",
    "\n",
    "\n",
    "ri.groupby('time_of_day')['drugs_related_stop'].mean().plot()"
   ]
  },
  {
   "cell_type": "code",
   "execution_count": 117,
   "metadata": {},
   "outputs": [
    {
     "data": {
      "text/plain": [
       "<matplotlib.axes._subplots.AxesSubplot at 0x7f83b33457f0>"
      ]
     },
     "execution_count": 117,
     "metadata": {},
     "output_type": "execute_result"
    },
    {
     "data": {
      "image/png": "[encoded data removed]",
      "text/plain": [
       "<matplotlib.figure.Figure at 0x7f83b3261e48>"
      ]
     },
     "metadata": {},
     "output_type": "display_data"
    }
   ],
   "source": [
    "#We plot the count of drugs related stops with respect to hour of day. (24hrs format)\n",
    "#Similar to mean drugs related stops.\n",
    "\n",
    "ri.groupby('time_of_day')['drugs_related_stop'].sum().plot()"
   ]
  },
  {
   "cell_type": "markdown",
   "metadata": {},
   "source": [
    "### Conclusion:\n",
    "##### Stops go up during the day time and decrease during the night.\n",
    "##### Drugs related activity goes up during the night and fall during the day."
   ]
  },
  {
   "cell_type": "markdown",
   "metadata": {},
   "source": [
    "### Finding bad data in stops_duration column and fixing it."
   ]
  },
  {
   "cell_type": "code",
   "execution_count": 118,
   "metadata": {},
   "outputs": [
    {
     "name": "stdout",
     "output_type": "stream",
     "text": [
      "0     0-15 Min\n",
      "1     0-15 Min\n",
      "2     0-15 Min\n",
      "3    16-30 Min\n",
      "4     0-15 Min\n",
      "Name: stop_duration, dtype: object\n"
     ]
    },
    {
     "data": {
      "text/plain": [
       "array(['0-15 Min', '16-30 Min', '30+ Min', nan, '2', '1'], dtype=object)"
      ]
     },
     "execution_count": 118,
     "metadata": {},
     "output_type": "execute_result"
    }
   ],
   "source": [
    "# Exploring stops_duration\n",
    "\n",
    "print(ri['stop_duration'].head())\n",
    "\n",
    "#there are 6 unique values in stops_duration including a nan. \n",
    "\n",
    "ri['stop_duration'].unique()\n",
    "\n",
    "#The 2 and the 1 should be included in the 0-15 Min category if they are minutes.\n",
    "#But the 1 and 2 could also be hours. "
   ]
  },
  {
   "cell_type": "code",
   "execution_count": 119,
   "metadata": {
    "collapsed": true
   },
   "outputs": [],
   "source": [
    "# Since there are around 5300 missing values and there are only 2 rows with bad data.\n",
    "# We can include these 2 rows of bad data into missing values. \n",
    "\n",
    "import numpy as np\n",
    "\n",
    "ri.loc[(ri['stop_duration'] == '1') | (ri['stop_duration'] == '2'), 'stop_duration'] = np.nan\n"
   ]
  },
  {
   "cell_type": "code",
   "execution_count": 122,
   "metadata": {},
   "outputs": [
    {
     "data": {
      "text/plain": [
       "0-15 Min     69543\n",
       "16-30 Min    13635\n",
       "NaN           5335\n",
       "30+ Min       3228\n",
       "Name: stop_duration, dtype: int64"
      ]
     },
     "execution_count": 122,
     "metadata": {},
     "output_type": "execute_result"
    }
   ],
   "source": [
    "# Well, 2 more missing values. \n",
    "\n",
    "ri['stop_duration'].value_counts(dropna = False)"
   ]
  },
  {
   "cell_type": "markdown",
   "metadata": {},
   "source": [
    "### What is the mean stop_duration for each violation_raw?"
   ]
  },
  {
   "cell_type": "code",
   "execution_count": 125,
   "metadata": {},
   "outputs": [
    {
     "data": {
      "text/plain": [
       "Speeding                            48463\n",
       "Other Traffic Violation             16224\n",
       "Equipment/Inspection Violation      11020\n",
       "Registration Violation               3432\n",
       "Seatbelt Violation                   2952\n",
       "Special Detail/Directed Patrol       2455\n",
       "Call for Service                     1298\n",
       "Violation of City/Town Ordinance      211\n",
       "Motorist Assist/Courtesy              203\n",
       "APB                                    79\n",
       "Suspicious Person                      56\n",
       "Warrant                                15\n",
       "Name: violation_raw, dtype: int64"
      ]
     },
     "execution_count": 125,
     "metadata": {},
     "output_type": "execute_result"
    }
   ],
   "source": [
    "# What is violation_raw?\n",
    "# It contains more specific violations instead of the very general in the violation column.\n",
    "\n",
    "ri['violation_raw'].value_counts()\n"
   ]
  },
  {
   "cell_type": "code",
   "execution_count": 133,
   "metadata": {},
   "outputs": [
    {
     "data": {
      "text/plain": [
       "violation_raw                     stop_duration\n",
       "APB                               0-15 Min         0.468354\n",
       "                                  16-30 Min        0.303797\n",
       "                                  30+ Min          0.227848\n",
       "Call for Service                  0-15 Min         0.421418\n",
       "                                  16-30 Min        0.335131\n",
       "                                  30+ Min          0.243451\n",
       "Equipment/Inspection Violation    0-15 Min         0.832396\n",
       "                                  16-30 Min        0.124592\n",
       "                                  30+ Min          0.043013\n",
       "Motorist Assist/Courtesy          0-15 Min         0.586207\n",
       "                                  16-30 Min        0.290640\n",
       "                                  30+ Min          0.123153\n",
       "Other Traffic Violation           0-15 Min         0.725082\n",
       "                                  16-30 Min        0.194169\n",
       "                                  30+ Min          0.080750\n",
       "Registration Violation            0-15 Min         0.705420\n",
       "                                  16-30 Min        0.234266\n",
       "                                  30+ Min          0.060315\n",
       "Seatbelt Violation                0-15 Min         0.902778\n",
       "                                  16-30 Min        0.084350\n",
       "                                  30+ Min          0.012873\n",
       "Special Detail/Directed Patrol    0-15 Min         0.660692\n",
       "                                  16-30 Min        0.249695\n",
       "                                  30+ Min          0.089613\n",
       "Speeding                          0-15 Min         0.846313\n",
       "                                  16-30 Min        0.141307\n",
       "                                  30+ Min          0.012381\n",
       "Suspicious Person                 0-15 Min         0.571429\n",
       "                                  16-30 Min        0.232143\n",
       "                                  30+ Min          0.196429\n",
       "Violation of City/Town Ordinance  0-15 Min         0.682464\n",
       "                                  16-30 Min        0.289100\n",
       "                                  30+ Min          0.028436\n",
       "Warrant                           0-15 Min         0.400000\n",
       "                                  16-30 Min        0.400000\n",
       "                                  30+ Min          0.200000\n",
       "Name: stop_duration, dtype: float64"
      ]
     },
     "execution_count": 133,
     "metadata": {},
     "output_type": "execute_result"
    }
   ],
   "source": [
    "# Lets find the mean stop_duration for each violation using groupby.\n",
    "\n",
    "ri.groupby('violation_raw')['stop_duration'].value_counts(normalize = True)\n",
    "\n",
    "# Almost all of the violations have mean stop time in range of 0-15 mins. \n",
    "# We can further explore it by encoding the stop_time with minutes."
   ]
  },
  {
   "cell_type": "markdown",
   "metadata": {},
   "source": [
    "### Compare the age distributions for each violation."
   ]
  },
  {
   "cell_type": "code",
   "execution_count": 137,
   "metadata": {},
   "outputs": [
    {
     "data": {
      "text/plain": [
       "<matplotlib.axes._subplots.AxesSubplot at 0x7f83b32e2a20>"
      ]
     },
     "execution_count": 137,
     "metadata": {},
     "output_type": "execute_result"
    },
    {
     "data": {
      "image/png": "[encoded data removed]",
      "text/plain": [
       "<matplotlib.figure.Figure at 0x7f83b32f22e8>"
      ]
     },
     "metadata": {},
     "output_type": "display_data"
    }
   ],
   "source": [
    "# How Age of drivers stopped is distributed.\n",
    "# Most of the values lie between ages 20-30.\n",
    "# Positively Skewed towards larger ages.  \n",
    "\n",
    "ri['driver_age'].value_counts().sort_index().plot()\n"
   ]
  },
  {
   "cell_type": "code",
   "execution_count": 144,
   "metadata": {},
   "outputs": [
    {
     "data": {
      "text/plain": [
       "count    86120.000000\n",
       "mean        34.011333\n",
       "std         12.738564\n",
       "min         15.000000\n",
       "25%         23.000000\n",
       "50%         31.000000\n",
       "75%         43.000000\n",
       "max         99.000000\n",
       "Name: driver_age, dtype: float64"
      ]
     },
     "execution_count": 144,
     "metadata": {},
     "output_type": "execute_result"
    }
   ],
   "source": [
    "# Describing age with aggregates.\n",
    "# Mean is just a little different from the median.\n",
    "\n",
    "ri['driver_age'].describe()"
   ]
  },
  {
   "cell_type": "code",
   "execution_count": 143,
   "metadata": {},
   "outputs": [
    {
     "data": {
      "text/plain": [
       "violation\n",
       "Equipment              28.0\n",
       "Moving violation       33.0\n",
       "Other                  39.0\n",
       "Registration/plates    30.0\n",
       "Seat belt              29.0\n",
       "Speeding               30.0\n",
       "Name: driver_age, dtype: float64"
      ]
     },
     "execution_count": 143,
     "metadata": {},
     "output_type": "execute_result"
    }
   ],
   "source": [
    "# Lets calculate median age for each violation\n",
    "\n",
    "ri.groupby('violation')['driver_age'].median()\n"
   ]
  },
  {
   "cell_type": "code",
   "execution_count": 147,
   "metadata": {},
   "outputs": [
    {
     "data": {
      "text/plain": [
       "array([[<matplotlib.axes._subplots.AxesSubplot object at 0x7f83b2b7b6a0>,\n",
       "        <matplotlib.axes._subplots.AxesSubplot object at 0x7f83b2deef28>],\n",
       "       [<matplotlib.axes._subplots.AxesSubplot object at 0x7f83b2890e80>,\n",
       "        <matplotlib.axes._subplots.AxesSubplot object at 0x7f83b284b438>],\n",
       "       [<matplotlib.axes._subplots.AxesSubplot object at 0x7f83b2816c50>,\n",
       "        <matplotlib.axes._subplots.AxesSubplot object at 0x7f83b27d89b0>]],\n",
       "      dtype=object)"
      ]
     },
     "execution_count": 147,
     "metadata": {},
     "output_type": "execute_result"
    },
    {
     "data": {
      "image/png": "[encoded data removed]",
      "text/plain": [
       "<matplotlib.figure.Figure at 0x7f83b2c83470>"
      ]
     },
     "metadata": {},
     "output_type": "display_data"
    }
   ],
   "source": [
    "# Lets plot violation with ages.\n",
    "\n",
    "ri.hist('driver_age', by='violation', sharex=True)\n",
    "\n",
    "#Most of the distributions are right skewed as a few number of people with large ages were stopped."
   ]
  },
  {
   "cell_type": "markdown",
   "metadata": {},
   "source": [
    "# Thank you. :) \n",
    "### Thanks also to Kevin Markham - Founder and teacher at DataSchool. \n",
    "### You can find kevin @ his youtube channel : https://www.youtube.com/user/dataschool"
   ]
  },
  {
   "cell_type": "code",
   "execution_count": null,
   "metadata": {
    "collapsed": true
   },
   "outputs": [],
   "source": []
  }
 ],
 "metadata": {
  "kernelspec": {
   "display_name": "Python 3",
   "language": "python",
   "name": "python3"
  },
  "language_info": {
   "codemirror_mode": {
    "name": "ipython",
    "version": 3
   },
   "file_extension": ".py",
   "mimetype": "text/x-python",
   "name": "python",
   "nbconvert_exporter": "python",
   "pygments_lexer": "ipython3",
   "version": "3.5.2"
  }
 },
 "nbformat": 4,
 "nbformat_minor": 2
}
